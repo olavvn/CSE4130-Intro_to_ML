{
  "nbformat": 4,
  "nbformat_minor": 0,
  "metadata": {
    "colab": {
      "provenance": []
    },
    "kernelspec": {
      "name": "python3",
      "display_name": "Python 3"
    },
    "language_info": {
      "name": "python"
    }
  },
  "cells": [
    {
      "cell_type": "code",
      "source": [
        "#no need to modify\n",
        "from google.colab import drive\n",
        "drive.mount('/content/drive', force_remount=True)"
      ],
      "metadata": {
        "colab": {
          "base_uri": "https://localhost:8080/"
        },
        "id": "CIF9Vyo63gFl",
        "outputId": "cad2aa7b-a245-4dd0-f2fb-52525a1cd001"
      },
      "execution_count": 57,
      "outputs": [
        {
          "output_type": "stream",
          "name": "stdout",
          "text": [
            "Mounted at /content/drive\n"
          ]
        }
      ]
    },
    {
      "cell_type": "code",
      "source": [
        "#no need to modify\n",
        "import numpy as np\n",
        "import os\n",
        "import glob\n",
        "import cv2"
      ],
      "metadata": {
        "id": "rrBgIzwPxgwO"
      },
      "execution_count": 58,
      "outputs": []
    },
    {
      "cell_type": "code",
      "execution_count": 59,
      "metadata": {
        "id": "YEAGtTXXveZ3"
      },
      "outputs": [],
      "source": [
        "#have to modify\n",
        "def load_dataset(data_dir):\n",
        "    \"\"\"\n",
        "    Load all grayscale .jpg images from a directory and flatten them into column vectors.\n",
        "\n",
        "    Args:\n",
        "        data_dir (str): Path to the folder containing .jpg images.\n",
        "\n",
        "    Returns:\n",
        "        X (np.ndarray): 2D array of shape (D, N), where D = H * W (flattened image size)\n",
        "                        and N = number of images.\n",
        "        labels (List[int]): List of length N with integer labels parsed from the\n",
        "                            first two characters of each filename.\n",
        "    \"\"\"\n",
        "    img_files = glob.glob(os.path.join(data_dir, '*.jpg'))\n",
        "    #이미지 벡터 저장할 리스트\n",
        "    images = []\n",
        "    #레이블 저장할 리스트\n",
        "    labels = []\n",
        "    for img_path in img_files:\n",
        "      # 이미지 회색조로 불러오기\n",
        "      img = cv2.imread(img_path, cv2.IMREAD_GRAYSCALE)\n",
        "      # 이미지를 1차원 벡터로 펼치기\n",
        "      img_flattened = img.flatten()\n",
        "      #이미지 벡터를 리스트에 저장\n",
        "      images.append(img_flattened)\n",
        "      #파일 이름에서 레이블 파싱 후 첫 두글자를 숫자로 변환\n",
        "      filename = os.path.basename(img_path)\n",
        "      label_str = filename[:2]\n",
        "      try:\n",
        "        label = int(label_str)\n",
        "        labels.append(label)\n",
        "      except ValueError:\n",
        "        print(f\"Skipping invalid label in filename: {filename}\")\n",
        "        continue\n",
        "\n",
        "    # 리스트에 저장된 이미지 벡터들을 쌓아 2D NumPy 배열 생성\n",
        "    # 각 벡터가 열이 되도록 전치. (D, N) 형태\n",
        "    X = np.array(images).T\n",
        "    return X,labels\n",
        "    raise NotImplementedError(\"This is your homework.\")"
      ]
    },
    {
      "cell_type": "code",
      "source": [
        "#no need to modify\n",
        "def compute_pairwise_distances(X, Y, metric='l2'):\n",
        "    \"\"\"\n",
        "    Compute pairwise distances between two sets of vectors using the specified metric.\n",
        "\n",
        "    Args:\n",
        "        X (np.ndarray): Array of shape (D, M), representing M query vectors of dimensionality D.\n",
        "        Y (np.ndarray): Array of shape (D, N), representing N reference vectors of dimensionality D.\n",
        "        metric (str): Distance metric to use; either 'l2' for Euclidean distance or 'l1' for Manhattan distance.\n",
        "\n",
        "    Returns:\n",
        "        np.ndarray: Distance matrix of shape (M, N), where entry (i, j) is the distance between X[:, i] and Y[:, j].\n",
        "\n",
        "    Raises:\n",
        "        ValueError: If an unsupported metric string is provided.\n",
        "    \"\"\"\n",
        "    if metric == 'l2':\n",
        "        # Use Euclidean (L2) distance\n",
        "        return calc_l2(X, Y)\n",
        "    elif metric == 'l1':\n",
        "        # Use Manhattan (L1) distance\n",
        "        return calc_l1(X, Y)\n",
        "    else:\n",
        "        # Reject unknown metrics\n",
        "        raise ValueError(f\"Unknown metric: {metric}\")\n",
        "\n",
        "#have to modify\n",
        "def calc_l2(X, Y):\n",
        "\n",
        "    \"\"\"\n",
        "    Compute pairwise L2 (Euclidean) distances between two sets of vectors.\n",
        "\n",
        "    Args:\n",
        "        X (np.ndarray): Array of shape (D, M), M query vectors.\n",
        "        Y (np.ndarray): Array of shape (D, N), N reference vectors.\n",
        "\n",
        "    Returns:\n",
        "        np.ndarray: Matrix of shape (M, N) where entry (i, j) is\n",
        "                    ||X[:, i] - Y[:, j]||_2.\n",
        "    \"\"\"\n",
        "    #차원 확장 후 broadcasting 연산 수행하여 diff_matrix 구하기\n",
        "    X_expanded = X.T[:, np.newaxis, :] #(M,1,D)\n",
        "    Y_expanded = Y.T[np.newaxis, :, :] #(1,N,D)\n",
        "    diff_matrix = X_expanded - Y_expanded #(M,N,D)\n",
        "    #diff_matrix 제곱\n",
        "    squared_diff = diff_matrix**2\n",
        "    #squared_diff의 세번째 차원을 합하여 차원 축소(3D -> 2D)\n",
        "    sum_squared_diff = np.sum(squared_diff, axis=2)\n",
        "    #sum_squared_diff에 루트 씌워 distance_matrix정의\n",
        "    distance_matrix = np.sqrt(sum_squared_diff)\n",
        "    return distance_matrix\n",
        "    raise NotImplementedError(\"This is your homework.\")\n",
        "\n",
        "#have to modify\n",
        "def calc_l1(X, Y):\n",
        "    \"\"\"\n",
        "    Compute pairwise L1 (Manhattan) distances between two sets of vectors.\n",
        "\n",
        "    Args:\n",
        "        X (np.ndarray): Array of shape (D, M), M query vectors.\n",
        "        Y (np.ndarray): Array of shape (D, N), N reference vectors.\n",
        "\n",
        "    Returns:\n",
        "        np.ndarray: Matrix of shape (M, N) where entry (i, j) is\n",
        "                    ||X[:, i] - Y[:, j]||_1.\n",
        "    \"\"\"\n",
        "    #차원 확장 후 broadcasting 연산 수행하여 diff_matrix 구하기\n",
        "    X_expanded = X.T[:, np.newaxis, :] #(M,1,D)\n",
        "    Y_expanded = Y.T[np.newaxis, :, :] #(1,N,D)\n",
        "    diff_matrix = X_expanded - Y_expanded #(M,N,D)\n",
        "    #diff_matrix의 모든 원소에 절대값 취함.\n",
        "    abs_diff = np.abs(diff_matrix)\n",
        "    #abs_diff의 세번째 차원을 합하여 차원 축소(3D -> 2D)\n",
        "    sum_abs_diff = np.sum(abs_diff, axis=2)\n",
        "    distance_matrix = sum_abs_diff\n",
        "    return distance_matrix\n",
        "    raise NotImplementedError(\"This is your homework.\")"
      ],
      "metadata": {
        "id": "WWReNRjZxWIT"
      },
      "execution_count": 60,
      "outputs": []
    },
    {
      "cell_type": "code",
      "source": [
        "#have to modify\n",
        "def match_accuracy(X_train, y_train, X_test, y_test, metric='l2'):\n",
        "    \"\"\"\n",
        "    Perform nearest-neighbor classification and compute accuracy.\n",
        "\n",
        "    For each test vector, find the closest training vector using the specified\n",
        "    distance metric, then compare its label to the true test label.\n",
        "\n",
        "    Args:\n",
        "        X_train (np.ndarray): Training data of shape (D, N_train).\n",
        "        y_train (List[int]): Labels for training data, length N_train.\n",
        "        X_test (np.ndarray): Test data of shape (D, N_test).\n",
        "        y_test (List[int]): True labels for test data, length N_test.\n",
        "        metric (str): Distance metric to use; either 'l1' or 'l2'.\n",
        "\n",
        "    Returns:\n",
        "        float: Classification accuracy (between 0 and 1).\n",
        "    \"\"\"\n",
        "    #X_test: query vector, X_train: refefence vector\n",
        "    #define distance_matrix\n",
        "    distance_matrix = compute_pairwise_distances(X_test, X_train, metric = metric)\n",
        "    #Initialize hit_count(정답 개수)\n",
        "    hit_count = 0\n",
        "    #distance matrix row별로 접근((1,N)vector)\n",
        "    for i in range(distance_matrix.shape[0]):\n",
        "      #각 row에서 distance의 최솟값 구하고, 해당 값의 인덱스 반환\n",
        "      closest_index = np.argmin(distance_matrix[i,:])\n",
        "      #가장 높은 확률을 가진 값의 레이블 반환\n",
        "      predicted_label = y_train[closest_index]\n",
        "      #실제값과 비교\n",
        "      true_label = y_test[i]\n",
        "      if predicted_label == true_label:\n",
        "        hit_count += 1\n",
        "    accuracy = hit_count / len(y_test)\n",
        "    return accuracy\n",
        "\n",
        "    raise NotImplementedError(\"This is your homework.\")"
      ],
      "metadata": {
        "id": "TjxOs_j0xW0P"
      },
      "execution_count": 61,
      "outputs": []
    },
    {
      "cell_type": "code",
      "source": [
        "def proj1(data_root):\n",
        "    # train: 50 subjects with 7 images each; test/val: 50 subjects with 1 image each\n",
        "    X_tr, y_tr = load_dataset(os.path.join(data_root, 'train'))\n",
        "    X_te, y_te = load_dataset(os.path.join(data_root, 'test2'))\n",
        "\n",
        "    for metric in ('l1', 'l2'):\n",
        "        acc = match_accuracy(X_tr, y_tr, X_te, y_te, metric)\n",
        "        print(f\"proj1 – {metric.upper()} accuracy: {acc * 100:.2f}%\")"
      ],
      "metadata": {
        "id": "BPn1IS4wxyxc"
      },
      "execution_count": 70,
      "outputs": []
    },
    {
      "cell_type": "markdown",
      "source": [],
      "metadata": {
        "id": "0w4Kjlal3efY"
      }
    },
    {
      "cell_type": "code",
      "source": [
        "#have to modify\n",
        "data_root = '/content/drive/MyDrive/git/CSE4130-Intro_to_ML/data'\n",
        "print(\"===== Project 1 =====\")\n",
        "proj1(data_root)"
      ],
      "metadata": {
        "colab": {
          "base_uri": "https://localhost:8080/"
        },
        "id": "IqOuUD82yhGh",
        "outputId": "df838074-e847-4e7e-a01b-9bb7b22c4106"
      },
      "execution_count": 71,
      "outputs": [
        {
          "output_type": "stream",
          "name": "stdout",
          "text": [
            "===== Project 1 =====\n",
            "proj1 – L1 accuracy: 10.00%\n",
            "proj1 – L2 accuracy: 86.00%\n"
          ]
        }
      ]
    },
    {
      "cell_type": "code",
      "source": [],
      "metadata": {
        "id": "83lP9GQB6fAh"
      },
      "execution_count": null,
      "outputs": []
    }
  ]
}