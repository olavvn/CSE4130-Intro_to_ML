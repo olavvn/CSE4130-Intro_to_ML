{
  "nbformat": 4,
  "nbformat_minor": 0,
  "metadata": {
    "colab": {
      "provenance": []
    },
    "kernelspec": {
      "name": "python3",
      "display_name": "Python 3"
    },
    "language_info": {
      "name": "python"
    }
  },
  "cells": [
    {
      "cell_type": "code",
      "source": [
        "from google.colab import drive\n",
        "drive.mount('/content/drive', force_remount=True)"
      ],
      "metadata": {
        "colab": {
          "base_uri": "https://localhost:8080/"
        },
        "id": "CIF9Vyo63gFl",
        "outputId": "0ca0de0f-ff83-4db0-ecba-8acb7b61a31c"
      },
      "execution_count": null,
      "outputs": [
        {
          "output_type": "stream",
          "name": "stdout",
          "text": [
            "Mounted at /content/drive\n"
          ]
        }
      ]
    },
    {
      "cell_type": "code",
      "source": [
        "import numpy as np\n",
        "import os\n",
        "import glob\n",
        "import cv2"
      ],
      "metadata": {
        "id": "rrBgIzwPxgwO"
      },
      "execution_count": null,
      "outputs": []
    },
    {
      "cell_type": "code",
      "execution_count": null,
      "metadata": {
        "id": "YEAGtTXXveZ3"
      },
      "outputs": [],
      "source": [
        "def load_dataset(data_dir):\n",
        "    \"\"\"\n",
        "    Load all grayscale .jpg images from a directory and flatten them into column vectors.\n",
        "\n",
        "    Args:\n",
        "        data_dir (str): Path to the folder containing .jpg images.\n",
        "\n",
        "    Returns:\n",
        "        X (np.ndarray): 2D array of shape (D, N), where D = H * W (flattened image size)\n",
        "                        and N = number of images.\n",
        "        labels (List[int]): List of length N with integer labels parsed from the\n",
        "                            first two characters of each filename.\n",
        "    \"\"\"\n",
        "    raise NotImplementedError(\"This is your homework.\")"
      ]
    },
    {
      "cell_type": "code",
      "source": [],
      "metadata": {
        "id": "ZhPt93HV35GN"
      },
      "execution_count": null,
      "outputs": []
    },
    {
      "cell_type": "code",
      "source": [
        "def compute_pairwise_distances(X, Y, metric='l2'):\n",
        "    \"\"\"\n",
        "    Compute pairwise distances between two sets of vectors using the specified metric.\n",
        "\n",
        "    Args:\n",
        "        X (np.ndarray): Array of shape (D, M), representing M query vectors of dimensionality D.\n",
        "        Y (np.ndarray): Array of shape (D, N), representing N reference vectors of dimensionality D.\n",
        "        metric (str): Distance metric to use; either 'l2' for Euclidean distance or 'l1' for Manhattan distance.\n",
        "\n",
        "    Returns:\n",
        "        np.ndarray: Distance matrix of shape (M, N), where entry (i, j) is the distance between X[:, i] and Y[:, j].\n",
        "\n",
        "    Raises:\n",
        "        ValueError: If an unsupported metric string is provided.\n",
        "    \"\"\"\n",
        "    if metric == 'l2':\n",
        "        # Use Euclidean (L2) distance\n",
        "        return calc_l2(X, Y)\n",
        "    elif metric == 'l1':\n",
        "        # Use Manhattan (L1) distance\n",
        "        return calc_l1(X, Y)\n",
        "    else:\n",
        "        # Reject unknown metrics\n",
        "        raise ValueError(f\"Unknown metric: {metric}\")\n",
        "\n",
        "def calc_l2(X, Y):\n",
        "    \"\"\"\n",
        "    Compute pairwise L2 (Euclidean) distances between two sets of vectors.\n",
        "\n",
        "    Args:\n",
        "        X (np.ndarray): Array of shape (D, M), M query vectors.\n",
        "        Y (np.ndarray): Array of shape (D, N), N reference vectors.\n",
        "\n",
        "    Returns:\n",
        "        np.ndarray: Matrix of shape (M, N) where entry (i, j) is\n",
        "                    ||X[:, i] - Y[:, j]||_2.\n",
        "    \"\"\"\n",
        "    raise NotImplementedError(\"This is your homework.\")\n",
        "\n",
        "\n",
        "def calc_l1(X, Y):\n",
        "    \"\"\"\n",
        "    Compute pairwise L1 (Manhattan) distances between two sets of vectors.\n",
        "\n",
        "    Args:\n",
        "        X (np.ndarray): Array of shape (D, M), M query vectors.\n",
        "        Y (np.ndarray): Array of shape (D, N), N reference vectors.\n",
        "\n",
        "    Returns:\n",
        "        np.ndarray: Matrix of shape (M, N) where entry (i, j) is\n",
        "                    ||X[:, i] - Y[:, j]||_1.\n",
        "    \"\"\"\n",
        "    raise NotImplementedError(\"This is your homework.\")"
      ],
      "metadata": {
        "id": "WWReNRjZxWIT"
      },
      "execution_count": null,
      "outputs": []
    },
    {
      "cell_type": "code",
      "source": [
        "def match_accuracy(X_train, y_train, X_test, y_test, metric='l2'):\n",
        "    \"\"\"\n",
        "    Perform nearest-neighbor classification and compute accuracy.\n",
        "\n",
        "    For each test vector, find the closest training vector using the specified\n",
        "    distance metric, then compare its label to the true test label.\n",
        "\n",
        "    Args:\n",
        "        X_train (np.ndarray): Training data of shape (D, N_train).\n",
        "        y_train (List[int]): Labels for training data, length N_train.\n",
        "        X_test (np.ndarray): Test data of shape (D, N_test).\n",
        "        y_test (List[int]): True labels for test data, length N_test.\n",
        "        metric (str): Distance metric to use; either 'l1' or 'l2'.\n",
        "\n",
        "    Returns:\n",
        "        float: Classification accuracy (between 0 and 1).\n",
        "    \"\"\"\n",
        "    raise NotImplementedError(\"This is your homework.\")"
      ],
      "metadata": {
        "id": "TjxOs_j0xW0P"
      },
      "execution_count": null,
      "outputs": []
    },
    {
      "cell_type": "code",
      "source": [
        "def proj1(data_root):\n",
        "    # train: 50 subjects with 7 images each; test/val: 50 subjects with 1 image each\n",
        "    X_tr, y_tr = load_dataset(os.path.join(data_root, 'train'))\n",
        "    X_te, y_te = load_dataset(os.path.join(data_root, 'test2'))\n",
        "\n",
        "    for metric in ('l1', 'l2'):\n",
        "        acc = match_accuracy(X_tr, y_tr, X_te, y_te, metric)\n",
        "        print(f\"proj1 – {metric.upper()} accuracy: {acc * 100:.2f}%\")"
      ],
      "metadata": {
        "id": "BPn1IS4wxyxc"
      },
      "execution_count": null,
      "outputs": []
    },
    {
      "cell_type": "markdown",
      "source": [],
      "metadata": {
        "id": "0w4Kjlal3efY"
      }
    },
    {
      "cell_type": "code",
      "source": [
        "data_root = '/content/drive/MyDrive/'\n",
        "print(\"===== Project 1 =====\")\n",
        "proj1(data_root)"
      ],
      "metadata": {
        "colab": {
          "base_uri": "https://localhost:8080/",
          "height": 193
        },
        "id": "IqOuUD82yhGh",
        "outputId": "4e4b7fc0-5506-4340-c2d5-ce0100c9bc46"
      },
      "execution_count": null,
      "outputs": [
        {
          "output_type": "stream",
          "name": "stdout",
          "text": [
            "===== Project 1 =====\n"
          ]
        },
        {
          "output_type": "error",
          "ename": "NameError",
          "evalue": "name 'proj1' is not defined",
          "traceback": [
            "\u001b[0;31m---------------------------------------------------------------------------\u001b[0m",
            "\u001b[0;31mNameError\u001b[0m                                 Traceback (most recent call last)",
            "\u001b[0;32m<ipython-input-2-8cc0be839edd>\u001b[0m in \u001b[0;36m<cell line: 0>\u001b[0;34m()\u001b[0m\n\u001b[1;32m      1\u001b[0m \u001b[0mdata_root\u001b[0m \u001b[0;34m=\u001b[0m \u001b[0;34m'/content/drive/MyDrive/'\u001b[0m\u001b[0;34m\u001b[0m\u001b[0;34m\u001b[0m\u001b[0m\n\u001b[1;32m      2\u001b[0m \u001b[0mprint\u001b[0m\u001b[0;34m(\u001b[0m\u001b[0;34m\"===== Project 1 =====\"\u001b[0m\u001b[0;34m)\u001b[0m\u001b[0;34m\u001b[0m\u001b[0;34m\u001b[0m\u001b[0m\n\u001b[0;32m----> 3\u001b[0;31m \u001b[0mproj1\u001b[0m\u001b[0;34m(\u001b[0m\u001b[0mdata_root\u001b[0m\u001b[0;34m)\u001b[0m\u001b[0;34m\u001b[0m\u001b[0;34m\u001b[0m\u001b[0m\n\u001b[0m",
            "\u001b[0;31mNameError\u001b[0m: name 'proj1' is not defined"
          ]
        }
      ]
    },
    {
      "cell_type": "code",
      "source": [],
      "metadata": {
        "id": "83lP9GQB6fAh"
      },
      "execution_count": null,
      "outputs": []
    }
  ]
}